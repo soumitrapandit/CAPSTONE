{
 "cells": [
  {
   "cell_type": "code",
   "execution_count": 2,
   "metadata": {},
   "outputs": [],
   "source": [
    "#Imports\n",
    "import matplotlib.pyplot as plt\n",
    "import numpy as np\n",
    "import scipy\n",
    "from collections import namedtuple"
   ]
  },
  {
   "cell_type": "code",
   "execution_count": 3,
   "metadata": {},
   "outputs": [],
   "source": [
    "test_params = dict()\n",
    "test_params['l1'] = 1\n",
    "test_params['l2'] = 1\n",
    "test_params['m1'] = 1\n",
    "test_params['m2'] = 1"
   ]
  },
  {
   "cell_type": "code",
   "execution_count": 4,
   "metadata": {},
   "outputs": [
    {
     "data": {
      "text/plain": [
       "1"
      ]
     },
     "execution_count": 4,
     "metadata": {},
     "output_type": "execute_result"
    }
   ],
   "source": [
    "test_params['l2']"
   ]
  },
  {
   "cell_type": "code",
   "execution_count": 5,
   "metadata": {},
   "outputs": [],
   "source": [
    "#Lets define the robot as a class\n",
    "class BipolarBot:\n",
    "    def __init__(self,params:dict) -> None:\n",
    "        self.l1 = params['l1']\n",
    "        self.l2 = params['l2']\n",
    "        self.m1 = params['m1']\n",
    "        self.m2 = params['m2']\n",
    "\n",
    "        #State Vector\n",
    "\n",
    "        self.state = np.array([self.x,self.x_dot])\n",
    "    \n",
    "    def dynamics(self):\n",
    "        pass\n",
    "    \n",
    "    def update_state(self):\n",
    "        pass\n",
    "\n",
    "    def control(self):\n",
    "        pass\n",
    "\n",
    "    def draw_robot(self):\n",
    "        pass"
   ]
  }
 ],
 "metadata": {
  "kernelspec": {
   "display_name": "base",
   "language": "python",
   "name": "python3"
  },
  "language_info": {
   "codemirror_mode": {
    "name": "ipython",
    "version": 3
   },
   "file_extension": ".py",
   "mimetype": "text/x-python",
   "name": "python",
   "nbconvert_exporter": "python",
   "pygments_lexer": "ipython3",
   "version": "3.9.16"
  }
 },
 "nbformat": 4,
 "nbformat_minor": 2
}
